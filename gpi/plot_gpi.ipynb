{
 "cells": [
  {
   "cell_type": "code",
   "execution_count": null,
   "id": "f233c7ac-9b3d-46dd-987c-120d399d932c",
   "metadata": {},
   "outputs": [],
   "source": [
    "import numpy as np\n",
    "import xarray as xr\n",
    "import pandas as pd\n",
    "from datetime import datetime\n",
    "from datetime import date\n",
    "from sklearn.preprocessing import PolynomialFeatures\n",
    "import statsmodels.api as sm\n",
    "import scipy.stats\n",
    "from sklearn.preprocessing import StandardScaler\n",
    "import numpy as np\n",
    "import matplotlib.pyplot as plt\n",
    "import seaborn as sns"
   ]
  },
  {
   "cell_type": "code",
   "execution_count": null,
   "id": "63d2f6bc-6ac8-49ed-90fc-718361e1a043",
   "metadata": {},
   "outputs": [],
   "source": [
    "\n"
   ]
  },
  {
   "cell_type": "code",
   "execution_count": null,
   "id": "975affbd-235f-4a81-8245-93e1b1cd9e61",
   "metadata": {},
   "outputs": [],
   "source": []
  },
  {
   "cell_type": "code",
   "execution_count": null,
   "id": "06569e3c-8132-43a4-b65f-5bddd46eaee0",
   "metadata": {},
   "outputs": [],
   "source": [
    "def plot_polygon(ax, sub_region):\n",
    "    \"\"\"\n",
    "    https://groups.google.com/forum/#!topic/scitools-iris/LxR0EbQolyE\n",
    "    Note:\n",
    "    ----\n",
    "    order is important:\n",
    "        lower-left, upper-left, upper-right, lower-right\n",
    "        2 -- 3\n",
    "        |    |\n",
    "        1 -- 4\n",
    "    \"\"\"\n",
    "    # ax = fig.axes[0]\n",
    "    lons = [sub_region.latmin, sub_region.latmin, sub_region.latmax, sub_region.latmax]\n",
    "    lats = [sub_region.lonmin, sub_region.lonmax, sub_region.lonmax, sub_region.lonmin]\n",
    "    ring = LinearRing(list(zip(lons, lats)))\n",
    "    ax.add_geometries([ring], cartopy.crs.PlateCarree(), facecolor='b', edgecolor='black', alpha=0.5)\n",
    "    return ax\n",
    "\n",
    "def plot_GPI(GPI,latS,latN,lonW,lonE):\n",
    " \n",
    "    import cartopy.crs as ccrs\n",
    "    import matplotlib.pyplot as plt\n",
    "    import matplotlib.ticker as mticker\n",
    "    import cartopy.feature as cfeature\n",
    "    from cartopy.mpl.gridliner import LongitudeFormatter, LatitudeFormatter\n",
    "\n",
    "    from geocat.viz import util as gvutil\n",
    "    from shapely.geometry.polygon import LinearRing\n",
    "\n",
    "    minlon =  40.\n",
    "    maxlon =  85.\n",
    "    minlat =  5.\n",
    "    maxlat =  25.\n",
    "\n",
    "    \n",
    "    minC = 0\n",
    "    maxC = 10.0 #100\n",
    "    intC = 1  #10\n",
    "   \n",
    "    levC = int((maxC-minC)/intC) + 1\n",
    "\n",
    "# Generate figure (set its size (width, height) in inches)\n",
    "    fig = plt.figure(figsize=(24, 6))\n",
    "\n",
    "# Generate axes, using Cartopy, drawing coastlines, and adding features\n",
    "    projection = ccrs.PlateCarree()\n",
    "\n",
    "    ax = plt.axes(projection=projection)\n",
    "    ax.coastlines(linewidths=0.5)\n",
    "    ax.add_feature(cfeature.LAND, facecolor='lightgray')\n",
    "\n",
    "    # Import an NCL colormap\n",
    "    #newcmp = gvcmaps.BlAqGrYeOrRe\n",
    "    newcmp = 'YlOrBr'  #'YlGn' #'coolwarm'  #gvcmaps.ncl_default\n",
    "    #newcmp = gvcmaps.BlAqGrYeOrRe\n",
    "# Contourf-plot data\n",
    "\n",
    "    contourLevels = np.arange(minC, maxC, intC)\n",
    "    vmaxMap = GPI.plot.contourf(ax=ax,\n",
    "                          transform=projection,\n",
    "                          vmin=minC,\n",
    "                          vmax=maxC,\n",
    "                          levels=contourLevels,\n",
    "                          cmap=newcmp,\n",
    "                          add_colorbar=False)\n",
    "\n",
    "    gvutil.set_axes_limits_and_ticks(ax,\n",
    "                                     xlim=(minlon, maxlon),\n",
    "                                     ylim=(minlat, maxlat),\n",
    "                                     xticks=np.linspace(minlon, maxlon, 6),\n",
    "                                     yticks=np.linspace(minlat, maxlat,3))\n",
    "\n",
    "     # Use geocat.viz.util convenience function to add minor and major tick lines\n",
    "    gvutil.add_major_minor_ticks(ax)\n",
    "\n",
    "    # Use geocat.viz.util convenience function to make plots look like NCL plots by\n",
    "    # using latitude, longitude tick labels\n",
    "    gvutil.add_lat_lon_ticklabels(ax)\n",
    "    # Remove the degree symbol from tick labels\n",
    "    ax.yaxis.set_major_formatter(LatitudeFormatter(degree_symbol=''))\n",
    "    ax.xaxis.set_major_formatter(LongitudeFormatter(degree_symbol=''))\n",
    "   \n",
    "    \n",
    "    lons = [lonW, lonW, lonE, lonE]\n",
    "    lats = [latS, latN, latN, latS]\n",
    "    \n",
    "    print(lonW, lonE, latN, latS)\n",
    "    ring = LinearRing(list(zip(lons, lats)))\n",
    "    ax.add_geometries([ring], ccrs.PlateCarree(), facecolor='none', edgecolor='black')\n",
    "\n",
    "    \n",
    "    # Add colorbar\n",
    "    cbar = plt.colorbar(vmaxMap, orientation='horizontal',ticks=np.arange(minC, maxC, intC))\n",
    "#cbar.ax.set_yticklabels([str(i) for i in np.arange(minC, maxC, intC)])\n",
    "#cbar.ax.set_yticklabels(str(conto\n"
   ]
  },
  {
   "cell_type": "code",
   "execution_count": null,
   "id": "7e9bf166-ff73-403f-a791-d2d155aeb648",
   "metadata": {},
   "outputs": [],
   "source": [
    "infile = '/glade/scratch/aiyyer/data/era5_gpi/EN19820610.nc'\n",
    "#infile = '/glade/scratch/aiyyer/data/kgpp_gpi/kgpp19820610.nc'\n",
    "print(infile)\n",
    "ds  = xr.open_dataset(infile) \n",
    "\n",
    "\n",
    "# epac \n",
    "latS=0\n",
    "latN=30\n",
    "lonW=40\n",
    "lonE=85\n"
   ]
  },
  {
   "cell_type": "code",
   "execution_count": null,
   "id": "2809db9d-d913-4646-a8cd-46c6a8560bca",
   "metadata": {},
   "outputs": [],
   "source": [
    "#gpiMean = ds.KGPP #  GPI\n",
    "gpiMean = ds.GPI\n",
    "\n"
   ]
  },
  {
   "cell_type": "code",
   "execution_count": null,
   "id": "0a0bf6bd-4705-43b5-a517-ec1b56f8c7bb",
   "metadata": {},
   "outputs": [],
   "source": [
    "print(\"GPI = \" , gpiMean.min().values, gpiMean.max().values)\n",
    "\n",
    "plot_GPI(gpiMean,latS,latN,lonW-360.,lonE-360.)"
   ]
  },
  {
   "cell_type": "code",
   "execution_count": null,
   "id": "5ab4aacb-0b97-475e-9d08-ddf21c5ae38c",
   "metadata": {},
   "outputs": [],
   "source": [
    "gpiMean.median()"
   ]
  },
  {
   "cell_type": "code",
   "execution_count": null,
   "id": "6dfb67bd-6435-4873-9d16-106b92bcf5cb",
   "metadata": {},
   "outputs": [],
   "source": [
    "gpiMean.longitude"
   ]
  },
  {
   "cell_type": "code",
   "execution_count": null,
   "id": "6ab596a6-5e93-4f12-918c-dda8e1655182",
   "metadata": {},
   "outputs": [],
   "source": []
  }
 ],
 "metadata": {
  "kernelspec": {
   "display_name": "NPL 2023b",
   "language": "python",
   "name": "npl-2023b"
  },
  "language_info": {
   "codemirror_mode": {
    "name": "ipython",
    "version": 3
   },
   "file_extension": ".py",
   "mimetype": "text/x-python",
   "name": "python",
   "nbconvert_exporter": "python",
   "pygments_lexer": "ipython3",
   "version": "3.10.12"
  }
 },
 "nbformat": 4,
 "nbformat_minor": 5
}
